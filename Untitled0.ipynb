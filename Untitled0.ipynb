{
  "nbformat": 4,
  "nbformat_minor": 0,
  "metadata": {
    "colab": {
      "name": "Untitled0.ipynb",
      "provenance": [],
      "collapsed_sections": []
    },
    "kernelspec": {
      "name": "python3",
      "display_name": "Python 3"
    },
    "language_info": {
      "name": "python"
    }
  },
  "cells": [
    {
      "cell_type": "markdown",
      "metadata": {
        "id": "VkKo2KgEXQ4O"
      },
      "source": [
        "\n"
      ]
    },
    {
      "cell_type": "markdown",
      "metadata": {
        "id": "lnV7l-jFcLWL"
      },
      "source": [
        "PYTHON PROGRAM FOR SUM OF NATURAL NUMBERS UP TO GIVEN NUMBER."
      ]
    },
    {
      "cell_type": "code",
      "metadata": {
        "id": "ph2k9jGPa37y"
      },
      "source": [
        "num = int(input())\n",
        "\n",
        "if num < 0:\n",
        "   print(\"Enter a positive number\")\n",
        "else:\n",
        "   sum = 0\n",
        "   # use while loop to iterate until zero\n",
        "   while(num > 0):\n",
        "       sum += num\n",
        "       num -= 1\n",
        "   print(\"The sum is\", sum)\n"
      ],
      "execution_count": null,
      "outputs": []
    },
    {
      "cell_type": "markdown",
      "metadata": {
        "id": "3nsChmiWa934"
      },
      "source": [
        " Python program to check if the number is an Armstrong number or not."
      ]
    },
    {
      "cell_type": "code",
      "metadata": {
        "id": "ytbqPI_7chWJ"
      },
      "source": [
        "# take input from the user\n",
        "num = int(input(\"Enter a number: \"))\n",
        "# initialize sum\n",
        "sum = 0\n",
        "# find the sum of the cube of each digit\n",
        "temp = num\n",
        "while temp > 0:\n",
        "   digit = temp % 10\n",
        "   sum += digit ** 3\n",
        "   temp //= 10\n",
        "# display the result\n",
        "if num == sum:\n",
        "   print(num,\"is an Armstrong number\")\n",
        "else:\n",
        "   print(num,\"is not an Armstrong number\")\n"
      ],
      "execution_count": null,
      "outputs": []
    },
    {
      "cell_type": "markdown",
      "metadata": {
        "id": "5AOpzu8IdM8a"
      },
      "source": [
        "FIND THE FACTORIAL OF GIVEN NUMBER IN PYTHON PROGRAM."
      ]
    },
    {
      "cell_type": "code",
      "metadata": {
        "id": "aoS2RV6-f5NF"
      },
      "source": [
        "num = int(input(\"Enter a number: \"))\n",
        "\n",
        "factorial = 1\n",
        "\n",
        "# check if the number is negative, positive or zero\n",
        "if num < 0:\n",
        "   print(\"Sorry, factorial does not exist for negative numbers\")\n",
        "elif num == 0:\n",
        "   print(\"The factorial of 0 is 1\")\n",
        "else:\n",
        "   for i in range(1,num + 1):\n",
        "       factorial = factorial*i\n",
        "   print(\"The factorial of\",num,\"is\",factorial)\n"
      ],
      "execution_count": null,
      "outputs": []
    }
  ]
}